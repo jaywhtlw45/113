{
  "nbformat": 4,
  "nbformat_minor": 0,
  "metadata": {
    "colab": {
      "provenance": [],
      "include_colab_link": true
    },
    "kernelspec": {
      "name": "python3",
      "display_name": "Python 3"
    },
    "language_info": {
      "name": "python"
    }
  },
  "cells": [
    {
      "cell_type": "markdown",
      "metadata": {
        "id": "view-in-github",
        "colab_type": "text"
      },
      "source": [
        "<a href=\"https://colab.research.google.com/github/jaywhtlw45/113/blob/main/Notebooks/Chap10/10_2_Convolution_for_MNIST_1D.ipynb\" target=\"_parent\"><img src=\"https://colab.research.google.com/assets/colab-badge.svg\" alt=\"Open In Colab\"/></a>"
      ]
    },
    {
      "cell_type": "markdown",
      "source": [
        "# **Notebook 10.2: Convolution for MNIST-1D**\n",
        "\n",
        "This notebook investigates a 1D convolutional network for MNIST-1D as in figure 10.7 and 10.8a.\n",
        "\n",
        "Work through the cells below, running each cell in turn. In various places you will see the words \"TO DO\". Follow the instructions at these places and make predictions about what is going to happen or write code to complete the functions.\n",
        "\n",
        "Contact me at udlbookmail@gmail.com if you find any mistakes or have any suggestions.\n",
        "\n"
      ],
      "metadata": {
        "id": "t9vk9Elugvmi"
      }
    },
    {
      "cell_type": "code",
      "source": [
        "# Run this if you're in a Colab to install MNIST 1D repository\n",
        "!pip install git+https://github.com/greydanus/mnist1d"
      ],
      "metadata": {
        "id": "D5yLObtZCi9J",
        "outputId": "5ad4e8ef-86e8-4b36-fb43-517a60d8cc58",
        "colab": {
          "base_uri": "https://localhost:8080/"
        }
      },
      "execution_count": 1,
      "outputs": [
        {
          "output_type": "stream",
          "name": "stdout",
          "text": [
            "Collecting git+https://github.com/greydanus/mnist1d\n",
            "  Cloning https://github.com/greydanus/mnist1d to /tmp/pip-req-build-n513fz8q\n",
            "  Running command git clone --filter=blob:none --quiet https://github.com/greydanus/mnist1d /tmp/pip-req-build-n513fz8q\n",
            "  Resolved https://github.com/greydanus/mnist1d to commit 7878d96082abd200c546a07a4101fa90b30fdf7e\n",
            "  Installing build dependencies ... \u001b[?25l\u001b[?25hdone\n",
            "  Getting requirements to build wheel ... \u001b[?25l\u001b[?25hdone\n",
            "  Preparing metadata (pyproject.toml) ... \u001b[?25l\u001b[?25hdone\n",
            "Requirement already satisfied: requests in /usr/local/lib/python3.10/dist-packages (from mnist1d==0.0.2.post16) (2.32.3)\n",
            "Requirement already satisfied: numpy in /usr/local/lib/python3.10/dist-packages (from mnist1d==0.0.2.post16) (1.26.4)\n",
            "Requirement already satisfied: matplotlib in /usr/local/lib/python3.10/dist-packages (from mnist1d==0.0.2.post16) (3.8.0)\n",
            "Requirement already satisfied: scipy in /usr/local/lib/python3.10/dist-packages (from mnist1d==0.0.2.post16) (1.13.1)\n",
            "Requirement already satisfied: contourpy>=1.0.1 in /usr/local/lib/python3.10/dist-packages (from matplotlib->mnist1d==0.0.2.post16) (1.3.0)\n",
            "Requirement already satisfied: cycler>=0.10 in /usr/local/lib/python3.10/dist-packages (from matplotlib->mnist1d==0.0.2.post16) (0.12.1)\n",
            "Requirement already satisfied: fonttools>=4.22.0 in /usr/local/lib/python3.10/dist-packages (from matplotlib->mnist1d==0.0.2.post16) (4.54.1)\n",
            "Requirement already satisfied: kiwisolver>=1.0.1 in /usr/local/lib/python3.10/dist-packages (from matplotlib->mnist1d==0.0.2.post16) (1.4.7)\n",
            "Requirement already satisfied: packaging>=20.0 in /usr/local/lib/python3.10/dist-packages (from matplotlib->mnist1d==0.0.2.post16) (24.1)\n",
            "Requirement already satisfied: pillow>=6.2.0 in /usr/local/lib/python3.10/dist-packages (from matplotlib->mnist1d==0.0.2.post16) (10.4.0)\n",
            "Requirement already satisfied: pyparsing>=2.3.1 in /usr/local/lib/python3.10/dist-packages (from matplotlib->mnist1d==0.0.2.post16) (3.2.0)\n",
            "Requirement already satisfied: python-dateutil>=2.7 in /usr/local/lib/python3.10/dist-packages (from matplotlib->mnist1d==0.0.2.post16) (2.8.2)\n",
            "Requirement already satisfied: charset-normalizer<4,>=2 in /usr/local/lib/python3.10/dist-packages (from requests->mnist1d==0.0.2.post16) (3.4.0)\n",
            "Requirement already satisfied: idna<4,>=2.5 in /usr/local/lib/python3.10/dist-packages (from requests->mnist1d==0.0.2.post16) (3.10)\n",
            "Requirement already satisfied: urllib3<3,>=1.21.1 in /usr/local/lib/python3.10/dist-packages (from requests->mnist1d==0.0.2.post16) (2.2.3)\n",
            "Requirement already satisfied: certifi>=2017.4.17 in /usr/local/lib/python3.10/dist-packages (from requests->mnist1d==0.0.2.post16) (2024.8.30)\n",
            "Requirement already satisfied: six>=1.5 in /usr/local/lib/python3.10/dist-packages (from python-dateutil>=2.7->matplotlib->mnist1d==0.0.2.post16) (1.16.0)\n",
            "Building wheels for collected packages: mnist1d\n",
            "  Building wheel for mnist1d (pyproject.toml) ... \u001b[?25l\u001b[?25hdone\n",
            "  Created wheel for mnist1d: filename=mnist1d-0.0.2.post16-py3-none-any.whl size=14624 sha256=0fdb14afc69f6cc01972eab3efce33b478d9654a96270bfa55542296d7a74df7\n",
            "  Stored in directory: /tmp/pip-ephem-wheel-cache-26fcgp1n/wheels/41/95/55/45fcf7d38cfa97e35682da6c5017d4513729131326ce935371\n",
            "Successfully built mnist1d\n",
            "Installing collected packages: mnist1d\n",
            "Successfully installed mnist1d-0.0.2.post16\n"
          ]
        }
      ]
    },
    {
      "cell_type": "code",
      "source": [
        "import numpy as np\n",
        "import os\n",
        "import torch, torch.nn as nn\n",
        "from torch.utils.data import TensorDataset, DataLoader\n",
        "from torch.optim.lr_scheduler import StepLR\n",
        "import matplotlib.pyplot as plt\n",
        "import mnist1d\n",
        "import random"
      ],
      "metadata": {
        "id": "YrXWAH7sUWvU"
      },
      "execution_count": 2,
      "outputs": []
    },
    {
      "cell_type": "code",
      "source": [
        "args = mnist1d.data.get_dataset_args()\n",
        "data = mnist1d.data.get_dataset(args, path='./mnist1d_data.pkl', download=False, regenerate=False)\n",
        "\n",
        "# The training and test input and outputs are in\n",
        "# data['x'], data['y'], data['x_test'], and data['y_test']\n",
        "print(\"Examples in training set: {}\".format(len(data['y'])))\n",
        "print(\"Examples in test set: {}\".format(len(data['y_test'])))\n",
        "print(\"Length of each example: {}\".format(data['x'].shape[-1]))"
      ],
      "metadata": {
        "id": "twI72ZCrCt5z",
        "outputId": "e9575415-2a60-46fb-ff3c-68d3adff84ce",
        "colab": {
          "base_uri": "https://localhost:8080/"
        }
      },
      "execution_count": 3,
      "outputs": [
        {
          "output_type": "stream",
          "name": "stdout",
          "text": [
            "Did or could not load data from ./mnist1d_data.pkl. Rebuilding dataset...\n",
            "Examples in training set: 4000\n",
            "Examples in test set: 1000\n",
            "Length of each example: 40\n"
          ]
        }
      ]
    },
    {
      "cell_type": "code",
      "source": [
        "# Load in the data\n",
        "train_data_x = data['x'].transpose()\n",
        "train_data_y = data['y']\n",
        "val_data_x = data['x_test'].transpose()\n",
        "val_data_y = data['y_test']\n",
        "# Print out sizes\n",
        "print(\"Train data: %d examples (columns), each of which has %d dimensions (rows)\"%((train_data_x.shape[1],train_data_x.shape[0])))\n",
        "print(\"Validation data: %d examples (columns), each of which has %d dimensions (rows)\"%((val_data_x.shape[1],val_data_x.shape[0])))"
      ],
      "metadata": {
        "id": "8bKADvLHbiV5",
        "outputId": "ce1695a2-e576-4bb5-842f-c191a6ea0d2b",
        "colab": {
          "base_uri": "https://localhost:8080/"
        }
      },
      "execution_count": 4,
      "outputs": [
        {
          "output_type": "stream",
          "name": "stdout",
          "text": [
            "Train data: 4000 examples (columns), each of which has 40 dimensions (rows)\n",
            "Validation data: 1000 examples (columns), each of which has 40 dimensions (rows)\n"
          ]
        }
      ]
    },
    {
      "cell_type": "markdown",
      "source": [
        "Define the network"
      ],
      "metadata": {
        "id": "_sFvRDGrl4qe"
      }
    },
    {
      "cell_type": "code",
      "source": [
        "# There are 40 input dimensions and 10 output dimensions for this data\n",
        "# The inputs correspond to the 40 offsets in the MNIST1D template.\n",
        "D_i = 40\n",
        "# The outputs correspond to the 10 digits\n",
        "D_o = 10\n",
        "\n",
        "\n",
        "# TODO Create a model with the following layers\n",
        "# 1. Convolutional layer, (input=length 40 and 1 channel, kernel size 3, stride 2, padding=\"valid\", 15 output channels )\n",
        "# 2. ReLU\n",
        "# 3. Convolutional layer, (input=length 19 and 15 channels, kernel size 3, stride 2, padding=\"valid\", 15 output channels )\n",
        "# 4. ReLU\n",
        "# 5. Convolutional layer, (input=length 9 and 15 channels, kernel size 3, stride 2, padding=\"valid\", 15 output channels)\n",
        "# 6. ReLU\n",
        "# 7. Flatten (converts 4x15) to length 60\n",
        "# 8. Linear layer (input size = 60, output size = 10)\n",
        "# References:\n",
        "# https://pytorch.org/docs/1.13/generated/torch.nn.Conv1d.html?highlight=conv1d#torch.nn.Conv1d\n",
        "# https://pytorch.org/docs/stable/generated/torch.nn.Flatten.html\n",
        "# https://pytorch.org/docs/1.13/generated/torch.nn.Linear.html?highlight=linear#torch.nn.Linear\n",
        "\n",
        "# NOTE THAT THE CONVOLUTIONAL LAYERS NEED TO TAKE THE NUMBER OF INPUT CHANNELS AS A PARAMETER\n",
        "# AND NOT THE INPUT SIZE.\n",
        "\n",
        "# Replace the following function:\n",
        "model = nn.Sequential(\n",
        "nn.Flatten(),\n",
        "nn.Linear(40, 100),\n",
        "nn.ReLU(),\n",
        "nn.Linear(100, 100),\n",
        "nn.ReLU(),\n",
        "nn.Linear(100, 10))\n",
        "\n",
        "\n",
        "\n"
      ],
      "metadata": {
        "id": "FslroPJJffrh"
      },
      "execution_count": 5,
      "outputs": []
    },
    {
      "cell_type": "code",
      "source": [
        "# He initialization of weights\n",
        "def weights_init(layer_in):\n",
        "  if isinstance(layer_in, nn.Linear):\n",
        "    nn.init.kaiming_uniform_(layer_in.weight)\n",
        "    layer_in.bias.data.fill_(0.0)"
      ],
      "metadata": {
        "id": "YgLaex1pfhqz"
      },
      "execution_count": 6,
      "outputs": []
    },
    {
      "cell_type": "code",
      "source": [
        "# choose cross entropy loss function (equation 5.24 in the loss notes)\n",
        "loss_function = nn.CrossEntropyLoss()\n",
        "# construct SGD optimizer and initialize learning rate and momentum\n",
        "optimizer = torch.optim.SGD(model.parameters(), lr = 0.05, momentum=0.9)\n",
        "# object that decreases learning rate by half every 20 epochs\n",
        "scheduler = StepLR(optimizer, step_size=20, gamma=0.5)\n",
        "# create 100 dummy data points and store in data loader class\n",
        "x_train = torch.tensor(train_data_x.transpose().astype('float32'))\n",
        "y_train = torch.tensor(train_data_y.astype('long')).long()\n",
        "x_val= torch.tensor(val_data_x.transpose().astype('float32'))\n",
        "y_val = torch.tensor(val_data_y.astype('long')).long()\n",
        "\n",
        "# load the data into a class that creates the batches\n",
        "data_loader = DataLoader(TensorDataset(x_train,y_train), batch_size=100, shuffle=True, worker_init_fn=np.random.seed(1))\n",
        "\n",
        "# Initialize model weights\n",
        "model.apply(weights_init)\n",
        "\n",
        "# loop over the dataset n_epoch times\n",
        "n_epoch = 100\n",
        "# store the loss and the % correct at each epoch\n",
        "losses_train = np.zeros((n_epoch))\n",
        "errors_train = np.zeros((n_epoch))\n",
        "losses_val = np.zeros((n_epoch))\n",
        "errors_val = np.zeros((n_epoch))\n",
        "\n",
        "for epoch in range(n_epoch):\n",
        "  # loop over batches\n",
        "  for i, data in enumerate(data_loader):\n",
        "    # retrieve inputs and labels for this batch\n",
        "    x_batch, y_batch = data\n",
        "    # zero the parameter gradients\n",
        "    optimizer.zero_grad()\n",
        "    # forward pass -- calculate model output\n",
        "    pred = model(x_batch[:,None,:])\n",
        "    # compute the loss\n",
        "    loss = loss_function(pred, y_batch)\n",
        "    # backward pass\n",
        "    loss.backward()\n",
        "    # SGD update\n",
        "    optimizer.step()\n",
        "\n",
        "  # Run whole dataset to get statistics -- normally wouldn't do this\n",
        "  pred_train = model(x_train[:,None,:])\n",
        "  pred_val = model(x_val[:,None,:])\n",
        "  _, predicted_train_class = torch.max(pred_train.data, 1)\n",
        "  _, predicted_val_class = torch.max(pred_val.data, 1)\n",
        "  errors_train[epoch] = 100 - 100 * (predicted_train_class == y_train).float().sum() / len(y_train)\n",
        "  errors_val[epoch]= 100 - 100 * (predicted_val_class == y_val).float().sum() / len(y_val)\n",
        "  losses_train[epoch] = loss_function(pred_train, y_train).item()\n",
        "  losses_val[epoch]= loss_function(pred_val, y_val).item()\n",
        "  print(f'Epoch {epoch:5d}, train loss {losses_train[epoch]:.6f}, train error {errors_train[epoch]:3.2f},  val loss {losses_val[epoch]:.6f}, percent error {errors_val[epoch]:3.2f}')\n",
        "\n",
        "  # tell scheduler to consider updating learning rate\n",
        "  scheduler.step()\n",
        "\n",
        "# Plot the results\n",
        "fig, ax = plt.subplots()\n",
        "ax.plot(errors_train,'r-',label='train')\n",
        "ax.plot(errors_val,'b-',label='validation')\n",
        "ax.set_ylim(0,100); ax.set_xlim(0,n_epoch)\n",
        "ax.set_xlabel('Epoch'); ax.set_ylabel('Error')\n",
        "ax.set_title('Part I: Validation Result %3.2f'%(errors_val[-1]))\n",
        "ax.legend()\n",
        "plt.show()"
      ],
      "metadata": {
        "id": "NYw8I_3mmX5c",
        "outputId": "23e56362-068c-4899-c817-f62a3d815ef3",
        "colab": {
          "base_uri": "https://localhost:8080/",
          "height": 1000
        }
      },
      "execution_count": 7,
      "outputs": [
        {
          "output_type": "stream",
          "name": "stdout",
          "text": [
            "Epoch     0, train loss 1.583480, train error 61.25,  val loss 1.674264, percent error 66.00\n",
            "Epoch     1, train loss 1.360049, train error 52.15,  val loss 1.501749, percent error 59.20\n",
            "Epoch     2, train loss 1.167106, train error 42.28,  val loss 1.353929, percent error 51.70\n",
            "Epoch     3, train loss 1.055355, train error 38.12,  val loss 1.347135, percent error 51.10\n",
            "Epoch     4, train loss 0.896752, train error 33.28,  val loss 1.200177, percent error 45.60\n",
            "Epoch     5, train loss 0.820192, train error 30.15,  val loss 1.216463, percent error 46.30\n",
            "Epoch     6, train loss 0.721296, train error 24.65,  val loss 1.159837, percent error 44.10\n",
            "Epoch     7, train loss 0.630483, train error 21.82,  val loss 1.128573, percent error 41.70\n",
            "Epoch     8, train loss 0.589587, train error 20.88,  val loss 1.190755, percent error 43.60\n",
            "Epoch     9, train loss 0.541280, train error 18.65,  val loss 1.177765, percent error 43.10\n",
            "Epoch    10, train loss 0.476409, train error 16.35,  val loss 1.145589, percent error 39.30\n",
            "Epoch    11, train loss 0.412290, train error 13.55,  val loss 1.159273, percent error 40.40\n",
            "Epoch    12, train loss 0.341448, train error 10.55,  val loss 1.142446, percent error 37.90\n",
            "Epoch    13, train loss 0.362579, train error 11.70,  val loss 1.185925, percent error 39.60\n",
            "Epoch    14, train loss 0.309192, train error 10.12,  val loss 1.218667, percent error 37.50\n",
            "Epoch    15, train loss 0.244164, train error 7.18,  val loss 1.252239, percent error 39.40\n",
            "Epoch    16, train loss 0.218043, train error 6.18,  val loss 1.246719, percent error 39.20\n",
            "Epoch    17, train loss 0.201153, train error 5.95,  val loss 1.332586, percent error 38.10\n",
            "Epoch    18, train loss 0.185233, train error 5.05,  val loss 1.295860, percent error 37.50\n",
            "Epoch    19, train loss 0.140393, train error 3.38,  val loss 1.337811, percent error 36.60\n",
            "Epoch    20, train loss 0.076115, train error 0.45,  val loss 1.269124, percent error 36.50\n",
            "Epoch    21, train loss 0.069748, train error 0.45,  val loss 1.318569, percent error 35.70\n",
            "Epoch    22, train loss 0.056336, train error 0.18,  val loss 1.335276, percent error 36.20\n",
            "Epoch    23, train loss 0.050185, train error 0.03,  val loss 1.373651, percent error 36.60\n",
            "Epoch    24, train loss 0.045045, train error 0.05,  val loss 1.387827, percent error 36.80\n",
            "Epoch    25, train loss 0.041482, train error 0.05,  val loss 1.399001, percent error 37.20\n",
            "Epoch    26, train loss 0.039838, train error 0.03,  val loss 1.434109, percent error 36.30\n",
            "Epoch    27, train loss 0.034785, train error 0.03,  val loss 1.457711, percent error 36.90\n",
            "Epoch    28, train loss 0.032673, train error 0.00,  val loss 1.475583, percent error 36.60\n",
            "Epoch    29, train loss 0.029731, train error 0.00,  val loss 1.483884, percent error 36.30\n",
            "Epoch    30, train loss 0.028132, train error 0.00,  val loss 1.501703, percent error 36.50\n",
            "Epoch    31, train loss 0.026212, train error 0.00,  val loss 1.505545, percent error 37.00\n",
            "Epoch    32, train loss 0.024423, train error 0.00,  val loss 1.527096, percent error 37.20\n",
            "Epoch    33, train loss 0.023069, train error 0.00,  val loss 1.541348, percent error 36.20\n",
            "Epoch    34, train loss 0.021830, train error 0.00,  val loss 1.564107, percent error 37.00\n",
            "Epoch    35, train loss 0.020654, train error 0.00,  val loss 1.571102, percent error 37.10\n",
            "Epoch    36, train loss 0.019820, train error 0.00,  val loss 1.578120, percent error 37.00\n",
            "Epoch    37, train loss 0.018609, train error 0.00,  val loss 1.604903, percent error 36.50\n",
            "Epoch    38, train loss 0.017902, train error 0.00,  val loss 1.608607, percent error 37.00\n",
            "Epoch    39, train loss 0.016995, train error 0.00,  val loss 1.619637, percent error 36.40\n",
            "Epoch    40, train loss 0.016280, train error 0.00,  val loss 1.629212, percent error 36.50\n",
            "Epoch    41, train loss 0.015865, train error 0.00,  val loss 1.636192, percent error 36.90\n",
            "Epoch    42, train loss 0.015546, train error 0.00,  val loss 1.641427, percent error 36.50\n",
            "Epoch    43, train loss 0.015284, train error 0.00,  val loss 1.644885, percent error 36.60\n",
            "Epoch    44, train loss 0.015031, train error 0.00,  val loss 1.655625, percent error 36.50\n",
            "Epoch    45, train loss 0.014650, train error 0.00,  val loss 1.658452, percent error 36.70\n",
            "Epoch    46, train loss 0.014334, train error 0.00,  val loss 1.662767, percent error 36.70\n",
            "Epoch    47, train loss 0.014076, train error 0.00,  val loss 1.668642, percent error 36.60\n",
            "Epoch    48, train loss 0.013810, train error 0.00,  val loss 1.675366, percent error 36.60\n",
            "Epoch    49, train loss 0.013545, train error 0.00,  val loss 1.681599, percent error 36.70\n",
            "Epoch    50, train loss 0.013348, train error 0.00,  val loss 1.686280, percent error 36.60\n",
            "Epoch    51, train loss 0.013088, train error 0.00,  val loss 1.689868, percent error 36.80\n",
            "Epoch    52, train loss 0.012859, train error 0.00,  val loss 1.694322, percent error 37.10\n",
            "Epoch    53, train loss 0.012612, train error 0.00,  val loss 1.698518, percent error 36.80\n",
            "Epoch    54, train loss 0.012413, train error 0.00,  val loss 1.704159, percent error 36.70\n",
            "Epoch    55, train loss 0.012189, train error 0.00,  val loss 1.711017, percent error 36.40\n",
            "Epoch    56, train loss 0.011996, train error 0.00,  val loss 1.717968, percent error 36.60\n",
            "Epoch    57, train loss 0.011851, train error 0.00,  val loss 1.717024, percent error 36.70\n",
            "Epoch    58, train loss 0.011614, train error 0.00,  val loss 1.724402, percent error 36.60\n",
            "Epoch    59, train loss 0.011405, train error 0.00,  val loss 1.728736, percent error 36.50\n",
            "Epoch    60, train loss 0.011286, train error 0.00,  val loss 1.730978, percent error 36.80\n",
            "Epoch    61, train loss 0.011197, train error 0.00,  val loss 1.732790, percent error 36.70\n",
            "Epoch    62, train loss 0.011110, train error 0.00,  val loss 1.735173, percent error 36.70\n",
            "Epoch    63, train loss 0.011023, train error 0.00,  val loss 1.738010, percent error 36.60\n",
            "Epoch    64, train loss 0.010941, train error 0.00,  val loss 1.739012, percent error 36.80\n",
            "Epoch    65, train loss 0.010862, train error 0.00,  val loss 1.742138, percent error 36.60\n",
            "Epoch    66, train loss 0.010774, train error 0.00,  val loss 1.743146, percent error 37.00\n",
            "Epoch    67, train loss 0.010690, train error 0.00,  val loss 1.746051, percent error 36.80\n",
            "Epoch    68, train loss 0.010609, train error 0.00,  val loss 1.749112, percent error 36.60\n",
            "Epoch    69, train loss 0.010533, train error 0.00,  val loss 1.749505, percent error 36.90\n",
            "Epoch    70, train loss 0.010465, train error 0.00,  val loss 1.752016, percent error 36.60\n",
            "Epoch    71, train loss 0.010377, train error 0.00,  val loss 1.753892, percent error 36.90\n",
            "Epoch    72, train loss 0.010303, train error 0.00,  val loss 1.756400, percent error 36.80\n",
            "Epoch    73, train loss 0.010229, train error 0.00,  val loss 1.758743, percent error 36.90\n",
            "Epoch    74, train loss 0.010149, train error 0.00,  val loss 1.759838, percent error 36.70\n",
            "Epoch    75, train loss 0.010082, train error 0.00,  val loss 1.762678, percent error 37.00\n",
            "Epoch    76, train loss 0.010005, train error 0.00,  val loss 1.765840, percent error 36.90\n",
            "Epoch    77, train loss 0.009935, train error 0.00,  val loss 1.766818, percent error 36.80\n",
            "Epoch    78, train loss 0.009864, train error 0.00,  val loss 1.767558, percent error 36.70\n",
            "Epoch    79, train loss 0.009798, train error 0.00,  val loss 1.770994, percent error 36.90\n",
            "Epoch    80, train loss 0.009756, train error 0.00,  val loss 1.771853, percent error 36.80\n",
            "Epoch    81, train loss 0.009721, train error 0.00,  val loss 1.773356, percent error 37.00\n",
            "Epoch    82, train loss 0.009687, train error 0.00,  val loss 1.773706, percent error 36.80\n",
            "Epoch    83, train loss 0.009653, train error 0.00,  val loss 1.774134, percent error 36.90\n",
            "Epoch    84, train loss 0.009620, train error 0.00,  val loss 1.775647, percent error 36.90\n",
            "Epoch    85, train loss 0.009587, train error 0.00,  val loss 1.777054, percent error 36.90\n",
            "Epoch    86, train loss 0.009554, train error 0.00,  val loss 1.777898, percent error 36.80\n",
            "Epoch    87, train loss 0.009521, train error 0.00,  val loss 1.778553, percent error 36.80\n",
            "Epoch    88, train loss 0.009489, train error 0.00,  val loss 1.779571, percent error 36.90\n",
            "Epoch    89, train loss 0.009456, train error 0.00,  val loss 1.780962, percent error 36.80\n",
            "Epoch    90, train loss 0.009424, train error 0.00,  val loss 1.782030, percent error 36.90\n",
            "Epoch    91, train loss 0.009392, train error 0.00,  val loss 1.782456, percent error 36.90\n",
            "Epoch    92, train loss 0.009360, train error 0.00,  val loss 1.783379, percent error 36.80\n",
            "Epoch    93, train loss 0.009330, train error 0.00,  val loss 1.784348, percent error 36.80\n",
            "Epoch    94, train loss 0.009297, train error 0.00,  val loss 1.785325, percent error 36.80\n",
            "Epoch    95, train loss 0.009267, train error 0.00,  val loss 1.786325, percent error 36.80\n",
            "Epoch    96, train loss 0.009236, train error 0.00,  val loss 1.787190, percent error 36.80\n",
            "Epoch    97, train loss 0.009205, train error 0.00,  val loss 1.788110, percent error 36.80\n",
            "Epoch    98, train loss 0.009175, train error 0.00,  val loss 1.789612, percent error 36.80\n",
            "Epoch    99, train loss 0.009143, train error 0.00,  val loss 1.790114, percent error 36.80\n"
          ]
        },
        {
          "output_type": "display_data",
          "data": {
            "text/plain": [
              "<Figure size 640x480 with 1 Axes>"
            ],
            "image/png": "[encoded data removed]"
          },
          "metadata": {}
        }
      ]
    }
  ]
}